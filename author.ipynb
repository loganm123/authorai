{
 "cells": [
  {
   "cell_type": "markdown",
   "metadata": {},
   "source": [
    "# Enter Author, Get a Paragraph Written by them\n",
    "*Using Project Gutenburg, allow users to enter in an author from Gutenburg and then have a custom paragraph written by them*\n",
    "\n",
    "Gutenburg can be found here [Project Gutenburg](https://www.gutenberg.org/)"
   ]
  },
  {
   "cell_type": "code",
   "execution_count": 3,
   "metadata": {},
   "outputs": [],
   "source": [
    "#import necessary modules\n",
    "import tensorflow as tf\n",
    "import pandas as pd\n",
    "import numpy as np\n",
    "import matplotlib.pyplot as plt\n",
    "import keras as keras\n",
    "import gutenbergpy.textget\n",
    "from knockknock import discord_sender\n",
    "from webhook_url import *"
   ]
  },
  {
   "cell_type": "code",
   "execution_count": 4,
   "metadata": {},
   "outputs": [
    {
     "data": {
      "text/plain": [
       "[PhysicalDevice(name='/physical_device:GPU:0', device_type='GPU')]"
      ]
     },
     "execution_count": 4,
     "metadata": {},
     "output_type": "execute_result"
    }
   ],
   "source": [
    "tf.config.list_physical_devices('GPU')"
   ]
  },
  {
   "cell_type": "code",
   "execution_count": 9,
   "metadata": {},
   "outputs": [],
   "source": [
    "\n",
    "#define function for preparing the book for us to train our model on\n",
    "def get_clean_tokenize_encode(id):\n",
    "    raw_book = gutenbergpy.textget.get_text_by_id(id)\n",
    "    clean_book = gutenbergpy.textget.strip_headers(raw_book)\n",
    "    book = str(clean_book, 'UTF-8')\n",
    "    global tokenizer \n",
    "    tokenizer = keras.preprocessing.text.Tokenizer(char_level = True)\n",
    "    tokenizer.fit_on_texts(book)\n",
    "    global encoded\n",
    "    [encoded]= np.array(tokenizer.texts_to_sequences([book]))-1\n",
    "    return encoded"
   ]
  },
  {
   "cell_type": "code",
   "execution_count": 16,
   "metadata": {},
   "outputs": [],
   "source": [
    "def create_training_set(encoded):\n",
    "    train_size = tokenizer.document_count * 90 // 100\n",
    "    dataset = tf.data.Dataset.from_tensor_slices(encoded[:train_size])\n",
    "    n_steps = 100\n",
    "    window_length = n_steps + 1 # target = input shifted 1 character ahead\n",
    "    dataset = dataset.window(window_length, shift=1, drop_remainder=True)\n",
    "    dataset = dataset.flat_map(lambda window: window.batch(window_length))\n",
    "    np.random.seed(42)\n",
    "    tf.random.set_seed(42)\n",
    "    batch_size = 32\n",
    "    dataset = dataset.shuffle(10000).batch(batch_size)\n",
    "    dataset = dataset.map(lambda windows: (windows[:, :-1], windows[:, 1:]))\n",
    "    max_id = len(tokenizer.word_index)\n",
    "    dataset = dataset.map(\n",
    "        lambda X_batch, Y_batch: (tf.one_hot(X_batch, depth=max_id), Y_batch))\n",
    "    dataset = dataset.prefetch(1)\n",
    "    return dataset, max_id"
   ]
  },
  {
   "cell_type": "code",
   "execution_count": 18,
   "metadata": {},
   "outputs": [],
   "source": [
    "def create_model(max_id):\n",
    "    #create and compile our model\n",
    "    model = keras.models.Sequential([\n",
    "        keras.layers.GRU(128, return_sequences=True, input_shape=[None, max_id],\n",
    "                        #dropout=0.2, recurrent_dropout=0.2),\n",
    "                        dropout=0.2),\n",
    "        keras.layers.GRU(128, return_sequences=True,\n",
    "                        #dropout=0.2, recurrent_dropout=0.2),\n",
    "                        dropout=0.2),\n",
    "        keras.layers.TimeDistributed(keras.layers.Dense(max_id,\n",
    "                                                        activation=\"softmax\"))\n",
    "    ])\n",
    "    model.compile(loss=\"sparse_categorical_crossentropy\", optimizer=\"adam\")\n",
    "    return model"
   ]
  },
  {
   "cell_type": "code",
   "execution_count": null,
   "metadata": {},
   "outputs": [],
   "source": [
    "#function to train the model\n",
    "@discord_sender(webhook_url=webhook_url)\n",
    "def train_model(dataset, epochs):\n",
    "    history = model.fit(dataset, epochs=epochs)\n",
    "    return history"
   ]
  },
  {
   "cell_type": "code",
   "execution_count": null,
   "metadata": {},
   "outputs": [],
   "source": [
    "epochs = 10\n",
    "#need to add an early stop here\n",
    "history =  train_model(dataset, epochs)"
   ]
  },
  {
   "cell_type": "code",
   "execution_count": null,
   "metadata": {},
   "outputs": [],
   "source": [
    "def preprocess(texts):\n",
    "    X = np.array(tokenizer.texts_to_sequences(texts)) - 1\n",
    "    return tf.one_hot(X, max_id)"
   ]
  }
 ],
 "metadata": {
  "kernelspec": {
   "display_name": "Python 3.10.5 64-bit",
   "language": "python",
   "name": "python3"
  },
  "language_info": {
   "codemirror_mode": {
    "name": "ipython",
    "version": 3
   },
   "file_extension": ".py",
   "mimetype": "text/x-python",
   "name": "python",
   "nbconvert_exporter": "python",
   "pygments_lexer": "ipython3",
   "version": "3.10.5"
  },
  "orig_nbformat": 4,
  "vscode": {
   "interpreter": {
    "hash": "369f2c481f4da34e4445cda3fffd2e751bd1c4d706f27375911949ba6bb62e1c"
   }
  }
 },
 "nbformat": 4,
 "nbformat_minor": 2
}
